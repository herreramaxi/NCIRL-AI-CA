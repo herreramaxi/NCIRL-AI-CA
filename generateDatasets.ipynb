{
 "cells": [
  {
   "cell_type": "code",
   "execution_count": null,
   "id": "d2cba646",
   "metadata": {},
   "outputs": [],
   "source": [
    "import pandas as pd\n",
    "import pandas_datareader.data as web\n",
    "import pandas_ta\n",
    "\n",
    "START = '2000'\n",
    "END = '2018'\n",
    "SKIP_PRICES = False\n",
    "SKIP_RISK_FACTORS = False\n",
    "\n",
    "if(not SKIP_PRICES):\n",
    "    df = (pd.read_csv('wiki_prices.csv',\n",
    "                      parse_dates=['date'],\n",
    "                      index_col=['date', 'ticker'],\n",
    "                      infer_datetime_format=True)\n",
    "          .sort_index())\n",
    "\n",
    "    prices = df.adj_close.unstack().loc[START:END]\n",
    "    prices.to_csv(\"prices-{}-{}.csv\".format(START, END))\n",
    "\n",
    "if(not SKIP_RISK_FACTORS):\n",
    "    ff_factor = 'F-F_Research_Data_5_Factors_2x3'\n",
    "    famafrench = web.DataReader(ff_factor, 'famafrench',\n",
    "                                start=START, end=\"{}-12\".format(END))[0]\n",
    "    famafrench.to_csv(\"ff_factor_data-{}-{}.csv\".format(START, END))\n",
    "\n",
    "    ff_portfolio = '17_Industry_Portfolios'\n",
    "    ff_portfolio_data = web.DataReader(\n",
    "        ff_portfolio, 'famafrench', start=START,  end=\"{}-12\".format(END))[0]\n",
    "    ff_portfolio_data = ff_portfolio_data.sub(famafrench.RF, axis=0)\n",
    "    ff_portfolio_data.to_csv(\"ff_portfolio_data-{}-{}.csv\".format(START, END))"
   ]
  },
  {
   "cell_type": "code",
   "execution_count": null,
   "id": "72ef55a4",
   "metadata": {},
   "outputs": [],
   "source": []
  }
 ],
 "metadata": {
  "kernelspec": {
   "display_name": "Python 3 (ipykernel)",
   "language": "python",
   "name": "python3"
  },
  "language_info": {
   "codemirror_mode": {
    "name": "ipython",
    "version": 3
   },
   "file_extension": ".py",
   "mimetype": "text/x-python",
   "name": "python",
   "nbconvert_exporter": "python",
   "pygments_lexer": "ipython3",
   "version": "3.9.5"
  }
 },
 "nbformat": 4,
 "nbformat_minor": 5
}
